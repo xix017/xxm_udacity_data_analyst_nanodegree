{
 "cells": [
  {
   "cell_type": "code",
   "execution_count": 1,
   "metadata": {
    "collapsed": false
   },
   "outputs": [],
   "source": [
    "# import libraries used in this project \n",
    "\n",
    "import os\n",
    "import xml.etree.cElementTree as ET\n",
    "import pprint\n",
    "import re\n",
    "import codecs\n",
    "import json\n",
    "import collections\n",
    "from collections import defaultdict\n",
    "import bson\n",
    "import pymongo"
   ]
  },
  {
   "cell_type": "code",
   "execution_count": 2,
   "metadata": {
    "collapsed": false
   },
   "outputs": [],
   "source": [
    "# Data used - Weekly OSM Metro Extracts from:\n",
    "# https://mapzen.com/metro-extracts/\n",
    "# https://s3.amazonaws.com/metro-extracts.mapzen.com/los-angeles_california.osm.bz2\n",
    "\n",
    "DATADIR = \"data\"\n",
    "DATAFILE = \"los-angeles_california.osm\"\n",
    "\n",
    "LA_DATA = os.path.join(DATADIR, DATAFILE)"
   ]
  },
  {
   "cell_type": "code",
   "execution_count": null,
   "metadata": {
    "collapsed": false
   },
   "outputs": [],
   "source": [
    "# count tags in the data set\n",
    "\n",
    "def count_tags(filename):\n",
    "    tags = defaultdict(int)\n",
    "    for line in ET.iterparse(filename, events=(\"start\",)):\n",
    "        new_tag = line[1].tag\n",
    "        tags[new_tag] += 1\n",
    "    return tags\n",
    "\n",
    "la_tags = count_tags(LA_DATA)"
   ]
  },
  {
   "cell_type": "code",
   "execution_count": null,
   "metadata": {
    "collapsed": true
   },
   "outputs": [],
   "source": [
    "pprint.pprint(la_tags)"
   ]
  },
  {
   "cell_type": "code",
   "execution_count": 10,
   "metadata": {
    "collapsed": false
   },
   "outputs": [],
   "source": [
    "lower = re.compile(r'^([a-z]|_)*$')\n",
    "lower_colon = re.compile(r'^([a-z]|_)*:([a-z]|_)*$')\n",
    "problemchars = re.compile(r'[=\\+/&<>;\\'\"\\?%#$@\\,\\. \\t\\r\\n]')\n",
    "\n",
    "def key_type(element, keys):\n",
    "    if element.tag == \"tag\":\n",
    "        k_value = element.attrib['k']\n",
    "        if lower.search(k_value) is not None:\n",
    "            keys['lower'] += 1\n",
    "        elif lower_colon.search(k_value) is not None:\n",
    "            keys['lower_colon'] += 1\n",
    "        elif problemchars.search(k_value) is not None:\n",
    "            keys[\"problemchars\"] += 1\n",
    "        else:\n",
    "            keys['other'] += 1\n",
    "\n",
    "    return keys\n",
    "\n",
    "def process_map(filename):\n",
    "    keys = {\"lower\": 0, \"lower_colon\": 0, \"problemchars\": 0, \"other\": 0}\n",
    "    for _, element in ET.iterparse(filename):\n",
    "        keys = key_type(element, keys)\n",
    "\n",
    "    return keys\n",
    "\n",
    "la_keys = process_map(LA_DATA)"
   ]
  },
  {
   "cell_type": "code",
   "execution_count": 11,
   "metadata": {
    "collapsed": false
   },
   "outputs": [
    {
     "name": "stdout",
     "output_type": "stream",
     "text": [
      "['addr:city', 'addr:street', 'addr:country', 'addr:postcode', 'addr:housenumber', 'addr:state', 'addr:full', 'addr:housename', 'addr:street_direction_prefix', 'licensee:addr:city', 'licensee:addr:state', 'licensee:addr:suite', 'licensee:addr:street', 'licensee:addr:postcode', 'licensee:addr:housenumber', 'addr:floor', 'addr:suite', 'addr:housenumber_1', 'addr:street_1', 'licensee:addr:street_direction_prefix', 'addr:county', 'addr:unit', 'addr:streetnumber', 'addr:door', 'addr:province', 'addr:sitenumber', 'addr:flats', 'addr:neighbourhood', 'addr:interpolation', 'addr:odd', 'addr:even', 'addr:source', 'addr:source_url', 'addr:street_2', 'addr:housenumber_2', 'addr:street2', 'addr:east_west', 'addr:north_south', 'addr:complete', 'addr:housenumber:max', 'addr:housenumber:min', 'disused:addr:city', 'alt_addr:street', 'alt_addr:housenumber', 'addr:inclusion', 'alt_addr:postcode', 'addr:suburb', 'addr:housenumber_3', 'addr:housenumber_4', 'addr:housenumber_5', 'addr:house', 'addr:place', 'addr:zip']\n"
     ]
    }
   ],
   "source": [
    "# check keys in \"tag\" \n",
    "\n",
    "def check_tag_key(osmfile):\n",
    "    osm_file = open(osmfile, \"r\")\n",
    "    key_list = []\n",
    "    for event, elem in ET.iterparse(osm_file, events=(\"start\",)):\n",
    "        if elem.tag == \"node\" or elem.tag == \"way\":\n",
    "            for tag in elem.iter(\"tag\"):\n",
    "                if tag.attrib['k'].find(\"addr:\")!=-1 and tag.attrib['k'] not in key_list:\n",
    "                    key_list.append(tag.attrib['k'])\n",
    "\n",
    "    return key_list       \n",
    "\n",
    "tag_key_list = check_tag_key(LA_DATA)\n",
    "print tag_key_list"
   ]
  },
  {
   "cell_type": "code",
   "execution_count": null,
   "metadata": {
    "collapsed": true
   },
   "outputs": [],
   "source": [
    "# check s\n",
    "\n",
    "def check_city(osmfile):\n",
    "    osm_file = open(osmfile, \"r\")\n",
    "    city_list = defaultdict(int)\n",
    "    for event, elem in ET.iterparse(osm_file, events=(\"start\",)):\n",
    "        if elem.tag == \"node\" or elem.tag == \"way\":\n",
    "            for tag in elem.iter(\"tag\"):\n",
    "                if tag.attrib['k']==\"addr:city\":\n",
    "                    city_list[tag.attrib['v']]+=1\n",
    "\n",
    "    return city_list       \n",
    "\n",
    "city_list = check_city(LA_DATA)\n",
    "print city_list"
   ]
  },
  {
   "cell_type": "code",
   "execution_count": 5,
   "metadata": {
    "collapsed": false
   },
   "outputs": [
    {
     "name": "stdout",
     "output_type": "stream",
     "text": [
      "defaultdict(<type 'int'>, {'Cuatro Vientos, Madrid': 1, 'Valdemoro': 37, u'Fuencemill\\xe1n': 1, 'Mostoles': 10, 'Camarena': 1, 'Madrd': 1, u'Villaviciosa de Od\\xf3n': 7, 'Collado Mediano': 3, 'Yuncler': 2, 'Arganda del Rey': 82, 'alcala de henares': 1, 'Villalbilla': 9, 'Buitrago de Lozoya': 1, 'El Molar': 1, u'Valsa\\xedn': 1, 'Majadahonda': 6, 'Becerril de la Sierra': 13, 'Casarrubios del Monte': 2, 'Rozas de Madrid': 1, 'Pozuelo del Rey': 9, 'Las Matas': 1, 'Santa Cruz de Retamar': 1, u'Torrej\\xf3n de Ardoz': 15, 'Collado Villalba': 51, 'Villamanrique de Tajo': 1, 'Navalcarnero': 3, 'La Lastrilla': 2, 'Villaviciosa de Odon': 1, u'San Agust\\xedn del Guadalix': 1, 'Algete': 1, 'Daganzo de Arriba': 1, u'Oca\\xf1a': 33, u'San Sebasti\\xe1n de los Reyes': 9, 'Pozuelo de Alascon': 1, 'Ciempozuelos': 7, u'Legan\\xe9s': 34, 'Cerceda': 4, 'Miraflores de la Sierra': 3, 'Collado-Villalba': 1, 'Navacerrada': 363, 'Paracuellos de Jarama': 9, 'Zarzalejjo': 1, 'Humanes': 1, 'Alovera': 20, 'Moralzarzal': 12, 'Cabanillas del Campo': 16, 'madrid': 12, 'Toledo': 662, 'Guadalajara': 29, 'El Escorial': 10, 'Nambroca': 2, 'Torrijos': 2, 'Sevilla la Nueva': 1, 'TORREJON DE ARDOZ': 1, u'Chinch\\xf3n': 1, 'Humanes de Madrid': 11, 'Yuncos': 1, 'moralzarzal': 1, '3': 1, 'Yeles': 2, 'Anchuelo': 1, 'toledo': 1, 'Ajalvir': 156, 'Hontanares de Eresma': 1, 'getafe': 1, u'Alcal\\xe1': 1, 'Aranjuez': 8, u'San Mart\\xedn de la Vega': 2, 'Cubas de la Sagra': 2, u'Sese\\xf1a Nuevo': 8, u'Villanueva de la Ca\\xf1ada': 2, u'M\\xf3stoles': 872, 'Tres Cantos': 11, 'Segovia': 31, 'ALCALA DE HENARES': 2, 'La Berzosa': 1, 'Las Rozas': 32, 'Guadarrama': 8, u'Alcorc\\xf3n': 35, 'Galapagar': 7, u'Nov\\xe9s': 5, 'Manzanares el Real': 1, 'Casarrubuelos': 3, 'San Lorenzo de El Escorial': 3, 'San MArtin de la Vega': 1, 'San Sebastian de los Reyes': 2, 'Mataelpino': 7, u'Orusco de Taju\\xf1a': 1, 'MADRID': 25, 'Pantoja': 7, 'Bargas': 62, 'Espinosa de Henares': 2, 'Lominchar': 5, 'Palazuelos de Eresma': 1, 'Portillo de Toledo': 2, 'Colmenar de Oreja': 7, 'Getafe': 40, 'Coslada': 330, 'Alcobendas': 43, 'Villanueva de la Torre': 6, 'Torrelaguna': 1851, 'Mejorada del Campo': 20, 'Arcicollar': 1, 'guadarrama': 1, 'Torrelodones': 36, u'Pozuelo de Alarc\\xf3n': 31, 'Alpedrete': 85, 'Meco': 14, 'Serranillos del Valle': 1, 'yuncler': 1, 'RIvas Vaciamadrid': 1, u'Torrej\\xf3n de la Calzada': 6, 'Rivas-Vaciamadrid': 4, u'Alcal\\xe1 de Henares': 131, 'Barajas madrid': 2, 'Recas': 1, 'Colmenar Viejo': 4, 'San Rafael': 1, 'Fuensalida': 12, 'Rivas Vaciamadrid': 60, u'villaviciosa de Od\\xf3n': 1, 'Colmenarejo': 1, 'Madrid': 20883, 'Boadilla del Monte': 8, 'Pinto': 5, u'Gri\\xf1\\xf3n': 1, 'ILLESCAS': 1, 'El Boalo': 7, 'Soto del Real': 1, 'Majadahonda, Madrid': 1, 'Velilla de San Antonio': 1, u'Redue\\xf1a': 203, 'La Mierla': 23, u'San Agust\\xedn de Guadalix': 2, 'Esquivias': 4, 'ALCORCON': 1, 'Borox': 6, 'Las Rozas de Madrid': 13, u'Tamaj\\xf3n': 1, 'Parla': 198, 'Campo Real': 2, 'guadalajara': 1, 'El Pardo': 8, 'Peguerinos': 1, u'san Sebasti\\xe1n de los Reyes': 1, 'Marchamalo': 7, u'Torrej\\xf3n de Velasco': 4, 'Alpedrete  ': 1, 'Puebla de la Sierra': 5, 'San Lorenzo del Escorial': 2, u'El Plant\\xedo': 1, 'Fuenlabrada': 3110, 'Las Matas-Madrid': 1, 'Real Sitio de San Ildefonso': 1, 'Hoyo de Manzanares': 8, u'Arcic\\xf3llar': 1, 'Valdeolmos-Alalpardo': 1, 'Illescas': 133, 'Vallecas': 1, '<diferente>': 1, 'Cercedilla': 36, 'Yunquera de Henares': 48, 'Alpedrete ': 6, u'San Sebasti\\xe1n de Los Reyes': 5, 'Azucaica': 28})\n"
     ]
    }
   ],
   "source": [
    "# check city\n",
    "\n",
    "def check_city(osmfile):\n",
    "    osm_file = open(osmfile, \"r\")\n",
    "    city_list = defaultdict(int)\n",
    "    for event, elem in ET.iterparse(osm_file, events=(\"start\",)):\n",
    "        if elem.tag == \"node\" or elem.tag == \"way\":\n",
    "            for tag in elem.iter(\"tag\"):\n",
    "                if tag.attrib['k']==\"addr:city\":\n",
    "                    city_list[tag.attrib['v']]+=1\n",
    "\n",
    "    return city_list       \n",
    "\n",
    "city_list = check_city(LA_DATA)\n",
    "print city_list"
   ]
  },
  {
   "cell_type": "code",
   "execution_count": 160,
   "metadata": {
    "collapsed": false
   },
   "outputs": [],
   "source": [
    "city_mapping = {\n",
    "    \"santa Monica\": \"Santa Monica\",\n",
    "    \"Los Angeles-Venice\":\"Los Angeles\",\n",
    "    \"Venice\": \"Los Angeles\",\n",
    "    \"West Los Angeles\":\"Los Angeles\",\n",
    "    \"Marina Del Rey CA\":\"Marina Del Rey\",\n",
    "    \"Marina del Rey\":\"Marina Del Rey\",\n",
    "    \"Marina del Ray\":\"Marina Del Rey\",\n",
    "    \"Venice CA\":\"Los Angeles\"}"
   ]
  },
  {
   "cell_type": "code",
   "execution_count": 239,
   "metadata": {
    "collapsed": true
   },
   "outputs": [],
   "source": [
    "def update_city(city_name, city_mapping):\n",
    "    for key in city_mapping.keys():\n",
    "        if city_name.find(key)!=-1:\n",
    "            #city_name = city_name.replace(key,city_mapping[key])\n",
    "            city_name = city_mapping[key]\n",
    "            break\n",
    "    return city_name"
   ]
  },
  {
   "cell_type": "code",
   "execution_count": 162,
   "metadata": {
    "collapsed": false
   },
   "outputs": [
    {
     "name": "stdout",
     "output_type": "stream",
     "text": [
      "santa Monica => Santa Monica\n",
      "Pacific Palisades => Pacific Palisades\n",
      "Marina Del Rey CA => Marina Del Rey\n",
      "Los Angeles-Venice => Los Angeles\n",
      "Marina Del Rey => Marina Del Rey\n",
      "Santa Monica => Santa Monica\n",
      "Venice => Los Angeles\n",
      "West Los Angeles => Los Angeles\n",
      "Los Angeles => Los Angeles\n",
      "Marina del Rey => Marina Del Rey\n",
      "Marina del Ray => Marina Del Rey\n",
      "Venice CA => Los Angeles\n"
     ]
    }
   ],
   "source": [
    "for city in city_list:\n",
    "    better_city = update_city(city,city_mapping)\n",
    "    print city, \"=>\", better_city"
   ]
  },
  {
   "cell_type": "code",
   "execution_count": 82,
   "metadata": {
    "collapsed": true
   },
   "outputs": [],
   "source": [
    "street_type_re = re.compile(r'\\b\\S+\\.?$', re.IGNORECASE)\n",
    "\n",
    "\n",
    "expected = [\"Street\", \"Avenue\", \"Boulevard\", \"Drive\", \"Court\", \"Place\", \"Square\", \"Lane\", \"Road\", \n",
    "            \"Trail\", \"Parkway\", \"Commons\",\"Highway\"]"
   ]
  },
  {
   "cell_type": "code",
   "execution_count": 146,
   "metadata": {
    "collapsed": false
   },
   "outputs": [],
   "source": [
    "def audit_street_type(street_types, street_name):\n",
    "    m = street_type_re.search(street_name)\n",
    "    if m:\n",
    "        street_type = m.group()\n",
    "        if street_type not in expected:\n",
    "            street_types[street_type].add(street_name)\n",
    "\n",
    "\n",
    "def is_street_name(elem):\n",
    "    return (elem.attrib['k'] == \"addr:street\")\n",
    "\n",
    "\n",
    "def audit(osmfile):\n",
    "    osm_file = open(osmfile, \"r\")\n",
    "    street_types = collections.defaultdict(set)\n",
    "    for event, elem in ET.iterparse(osm_file, events=(\"start\",)):\n",
    "        if elem.tag == \"node\" or elem.tag == \"way\":\n",
    "            for tag in elem.iter(\"tag\"):\n",
    "                if is_street_name(tag):\n",
    "                    audit_street_type(street_types, tag.attrib['v'])\n",
    "\n",
    "    return street_types                    "
   ]
  },
  {
   "cell_type": "code",
   "execution_count": 117,
   "metadata": {
    "collapsed": false
   },
   "outputs": [
    {
     "name": "stdout",
     "output_type": "stream",
     "text": [
      "defaultdict(<type 'int'>, {'Boulevard': 66, 'Ln': 1, 'St.': 1, 'Way': 3, 'ave': 2, 'Highway': 4, 'Promenade': 3, 'North': 1, 'Bvd': 1, 'access': 1, 'Road': 1, 'Marina': 1, 'Dr': 2, 'Center': 1, 'Bd.': 1, 'Drive': 2, 'Pico': 1, 'Place': 1, 'Ave': 3, 'South': 1, 'Blvd.': 1, '1180': 1, 'Walk': 3, 'Street': 20, '1101': 1, 'Blvd': 5, 'Broadway': 4, 'Avenue': 23})\n"
     ]
    }
   ],
   "source": [
    "#List unformatted street type \n",
    "def all_street_type(osmfile):\n",
    "    osm_file = open(osmfile, \"r\")\n",
    "    street_types = defaultdict(int)\n",
    "    for event, elem in ET.iterparse(osm_file, events=(\"start\",)):\n",
    "        if elem.tag == \"node\" or elem.tag == \"way\":\n",
    "            for tag in elem.iter(\"tag\"):\n",
    "                if is_street_name(tag):\n",
    "                    street_type=tag.attrib[\"v\"].strip().split(\" \")[-1]\n",
    "                    street_types[street_type]+=1\n",
    "    return street_types\n",
    "\n",
    "print all_street_type(SMC_DATA)"
   ]
  },
  {
   "cell_type": "code",
   "execution_count": 118,
   "metadata": {
    "collapsed": false
   },
   "outputs": [
    {
     "name": "stdout",
     "output_type": "stream",
     "text": [
      "['Promenade', 'Bd.', 'North', 'Center', 'Ln', 'St.', 'Bvd', '1180', 'Ave', 'access', 'Marina', 'Pico', '1101', 'Way', 'Broadway', 'Blvd', 'ave', 'Walk', 'Dr', 'South', 'Blvd.']\n"
     ]
    }
   ],
   "source": [
    "# print problem street type\n",
    "print audit(SMC_DATA).keys()"
   ]
  },
  {
   "cell_type": "code",
   "execution_count": 126,
   "metadata": {
    "collapsed": false
   },
   "outputs": [
    {
     "name": "stdout",
     "output_type": "stream",
     "text": [
      "set(['15th Street Ste. 1101'])\n",
      "set(['Santa Monica Boulevard, Suite 1180'])\n"
     ]
    }
   ],
   "source": [
    "print audit(SMC_DATA)['1101']\n",
    "print audit(SMC_DATA)['1180']"
   ]
  },
  {
   "cell_type": "code",
   "execution_count": 192,
   "metadata": {
    "collapsed": false
   },
   "outputs": [],
   "source": [
    "street_mapping = {\n",
    "    \"Ln\": \"Lane\",\n",
    "    \"St.\":\"Street\",\n",
    "    \"Ave\": \"Avenue\",\n",
    "    \"ave\":\"Avenue\",\n",
    "    \"Bd\":\"Boulevard\",\n",
    "    \"Blvd\":\"Boulevard\",\n",
    "    \"Blvd.\":\"Boulevard\",\n",
    "    \"Bvd\":\"Boulevard\",\n",
    "    \"access\":\"Access\",\n",
    "    \"Dr\":\"Drive\",\n",
    "    \"15th Street Ste. 1101\":\"15th Street\",\n",
    "    \"Santa Monica Boulevard, Suite 1180\":\"Santa Monica Boulevard\"}"
   ]
  },
  {
   "cell_type": "code",
   "execution_count": 193,
   "metadata": {
    "collapsed": true
   },
   "outputs": [],
   "source": [
    "def update_street(name, street_mapping):\n",
    "    for key in mapping.keys():\n",
    "        if name.find(key)!=-1:\n",
    "            name = name.replace(key,street_mapping[key])\n",
    "            break\n",
    "    return name"
   ]
  },
  {
   "cell_type": "code",
   "execution_count": 195,
   "metadata": {
    "collapsed": false
   },
   "outputs": [
    {
     "name": "stdout",
     "output_type": "stream",
     "text": [
      "Walnut Ln => Walnut Lane\n",
      "Main St. => Main Street\n",
      "Ocean Way => Ocean Way\n",
      "Admiralty Way => Admiralty Way\n",
      "Olive ave => Olive Avenue\n",
      "Pacific Coast Highway => Pacific Coast Highway\n",
      "Santa Monica Pier access => Santa Monica Pier Access\n",
      "Donald Douglas Loop North => Donald Douglas Loop North\n",
      "Santa Monica Bvd => Santa Monica Boulevard\n",
      "Third Street Promenade => Third Street Promenade\n",
      "Via Marina => Via Marina\n",
      "Entrada Dr => Entrada Drive\n",
      "Civic Center => Civic Center\n",
      "Ocean Bd. => Ocean Boulevard.\n",
      "West Pico => West Pico\n",
      "Olive Ave => Olive Avenue\n",
      "Ohio Ave => Ohio Avenue\n",
      "Montana Ave => Montana Avenue\n",
      "Donald Douglas Loop South => Donald Douglas Loop South\n",
      "Olympic Blvd. => Olympic Boulevard\n",
      "Santa Monica Boulevard, Suite 1180 => Santa Monica Boulevard\n",
      "Ocean Front Walk => Ocean Front Walk\n",
      "15th Street Ste. 1101 => 15th Street\n",
      "Pico Blvd => Pico Boulevard\n",
      "Washington Blvd => Washington Boulevard\n",
      "Wilshire Blvd => Wilshire Boulevard\n",
      "W Washington Blvd => W Washington Boulevard\n",
      "Santa Monica Blvd => Santa Monica Boulevard\n",
      "Broadway => Broadway\n"
     ]
    }
   ],
   "source": [
    "smc_st_types = audit(SMC_DATA)\n",
    "\n",
    "for st_type, ways in smc_types.iteritems():\n",
    "        for name in ways:\n",
    "            better_name = update_street(name, street_mapping)\n",
    "            print name, \"=>\", better_name"
   ]
  },
  {
   "cell_type": "code",
   "execution_count": 196,
   "metadata": {
    "collapsed": false
   },
   "outputs": [
    {
     "name": "stdout",
     "output_type": "stream",
     "text": [
      "Ocean Bd. => Ocean Boulevard.\n",
      "Walnut Ln => Walnut Lane\n",
      "Main St. => Main Street\n",
      "Santa Monica Bvd => Santa Monica Boulevard\n",
      "Santa Monica Boulevard, Suite 1180 => Santa Monica Boulevard\n",
      "Olive Ave => Olive Avenue\n",
      "Ohio Ave => Ohio Avenue\n",
      "Montana Ave => Montana Avenue\n",
      "Santa Monica Pier access => Santa Monica Pier Access\n",
      "15th Street Ste. 1101 => 15th Street\n",
      "Pico Blvd => Pico Boulevard\n",
      "Washington Blvd => Washington Boulevard\n",
      "Wilshire Blvd => Wilshire Boulevard\n",
      "W Washington Blvd => W Washington Boulevard\n",
      "Santa Monica Blvd => Santa Monica Boulevard\n",
      "Olive ave => Olive Avenue\n",
      "Entrada Dr => Entrada Drive\n",
      "Olympic Blvd. => Olympic Boulevard\n"
     ]
    }
   ],
   "source": [
    "# Mapping variables were updated: see full list above\n",
    "for st_type, ways in smc_st_types.iteritems():\n",
    "    for name in ways:\n",
    "        better_name = update_name(name, street_mapping)\n",
    "        # Only show changed street names in way nodes \n",
    "        # since there are a lot more in this city data\n",
    "        if name != better_name:\n",
    "            print name, \"=>\", better_name\n",
    "# One street would need to be cleaned a lot: 1833 8th Street Northwestalbuquerque Nm 87102\n",
    "# But almost all have been cleaned pretty well."
   ]
  },
  {
   "cell_type": "code",
   "execution_count": 197,
   "metadata": {
    "collapsed": false
   },
   "outputs": [
    {
     "name": "stdout",
     "output_type": "stream",
     "text": [
      "defaultdict(<type 'int'>, {'addr:housenumber': 149, 'addr:interpolation': 1, 'addr:city': 121, 'addr:postcode': 149, 'addr:full': 1, 'addr:housename': 12, 'addr:state': 90, 'addr:country': 11, 'addr:street': 155})\n"
     ]
    }
   ],
   "source": [
    "def check_postcode(osmfile):\n",
    "    osm_file = open(osmfile, \"r\")\n",
    "    key_list = defaultdict(int)\n",
    "    for event, elem in ET.iterparse(osm_file, events=(\"start\",)):\n",
    "        if elem.tag == \"node\" or elem.tag == \"way\":\n",
    "            for tag in elem.iter(\"tag\"):\n",
    "                if tag.attrib['k'].find(\"addr:\")!=-1:\n",
    "                    key_list[tag.attrib['k']]+=1\n",
    "\n",
    "    return key_list       \n",
    "\n",
    "postcode_list = check_postcode(SMC_DATA)\n",
    "print postcode_list\n",
    "    "
   ]
  },
  {
   "cell_type": "code",
   "execution_count": 170,
   "metadata": {
    "collapsed": false
   },
   "outputs": [
    {
     "name": "stdout",
     "output_type": "stream",
     "text": [
      "defaultdict(<type 'int'>, {'90025-9998': 1, 'CA 90291': 1, '90401-2405': 1, '90025': 24, '90291': 13, '90292': 28, 'CA 90405': 3, '90401': 20, '90402': 5, '90403': 9, '90404': 17, '90405': 11, '90064': 4, '90272': 4, 'CA 90272': 1, '90291-3879': 1, 'CA 90404': 1, '90064-1508': 1, '90049': 2, 'CA 90401': 1, '90272-3719': 1})\n"
     ]
    }
   ],
   "source": [
    "def check_postcode(osmfile):\n",
    "    osm_file = open(osmfile, \"r\")\n",
    "    postcode_list = defaultdict(int)\n",
    "    problem_postcode = defaultdict(int)\n",
    "    for event, elem in ET.iterparse(osm_file, events=(\"start\",)):\n",
    "        if elem.tag == \"node\" or elem.tag == \"way\":\n",
    "            for tag in elem.iter(\"tag\"):\n",
    "                if tag.attrib['k']==\"addr:postcode\":\n",
    "                    postcode_list[tag.attrib['v']]+=1\n",
    "\n",
    "    return postcode_list       \n",
    "\n",
    "postcode_list = check_postcode(SMC_DATA)\n",
    "print postcode_list"
   ]
  },
  {
   "cell_type": "code",
   "execution_count": 173,
   "metadata": {
    "collapsed": false
   },
   "outputs": [],
   "source": [
    "# Covers cases encountered in cleaning \n",
    "def check_5_digits(new_postal):\n",
    "    # Make sure postal code is 5 digits\n",
    "    if len(str(new_postal)) == 5:\n",
    "        return new_postal\n",
    "    # Else return postal code with descriptive error message attached.\n",
    "    else:\n",
    "        return \"NOT 5 DIGITS:\"+str(new_postal)     \n",
    "\n",
    "def update_postcode(postal):\n",
    "    # Try to convert numbers as intended. \n",
    "    # No need to check for conditions with if statements if the vast majority will be valid.\n",
    "    try:\n",
    "        new_postal = int(postal)\n",
    "        # Check for 5 sigits with another function.\n",
    "        return check_5_digits(new_postal)\n",
    "    except ValueError as value_error:\n",
    "        # Check if it's a string with a hyphen containing 4 trailing digits'\n",
    "        if '-' in postal:\n",
    "            # Grab first digits and convert to int.\n",
    "            postal = int(postal.split('-')[0])\n",
    "            # Check for 5 sigits with another function.\n",
    "            return check_5_digits(postal)\n",
    "        if ' ' in postal:\n",
    "            postals = postal.split(' ')\n",
    "            new_postals = [p for p in postals if len(p)==5]\n",
    "            try:\n",
    "                # Check the first entry for a valid 5 digit number\n",
    "                new_postals = int(new_postals[0])\n",
    "                return check_5_digits(new_postals)\n",
    "            # Otherwise return the error thrown and values.\n",
    "            except Exception as err:\n",
    "                return err, new_postals\n",
    "        else:\n",
    "            # Return the ValueError thrown and value if it doesn't meet these criteria\n",
    "            return ValueError + \":\" + str(postal)"
   ]
  },
  {
   "cell_type": "code",
   "execution_count": 181,
   "metadata": {
    "collapsed": false
   },
   "outputs": [
    {
     "name": "stdout",
     "output_type": "stream",
     "text": [
      "90025-9998 => 90025\n",
      "CA 90291 => 90291\n",
      "90401-2405 => 90401\n",
      "90025 => 90025\n",
      "90291 => 90291\n",
      "90292 => 90292\n",
      "CA 90405 => 90405\n",
      "90401 => 90401\n",
      "90402 => 90402\n",
      "90403 => 90403\n",
      "90404 => 90404\n",
      "90405 => 90405\n",
      "90064 => 90064\n",
      "90272 => 90272\n",
      "CA 90272 => 90272\n",
      "90291-3879 => 90291\n",
      "CA 90404 => 90404\n",
      "90064-1508 => 90064\n",
      "90049 => 90049\n",
      "CA 90401 => 90401\n",
      "90272-3719 => 90272\n"
     ]
    }
   ],
   "source": [
    "for postcode in postcode_list.keys():\n",
    "    better_postcode = update_postcode(postcode)\n",
    "    print postcode,\"=>\", better_postcode"
   ]
  },
  {
   "cell_type": "code",
   "execution_count": 182,
   "metadata": {
    "collapsed": false
   },
   "outputs": [
    {
     "name": "stdout",
     "output_type": "stream",
     "text": [
      "defaultdict(<type 'int'>, {'CA': 88, 'CALIFORNIA': 1, 'CA,': 1}) defaultdict(<type 'int'>, {'US': 11})\n"
     ]
    }
   ],
   "source": [
    "#check state and country\n",
    "def check_state(osmfile):\n",
    "    osm_file = open(osmfile, \"r\")\n",
    "    state_list = defaultdict(int)\n",
    "    problem_postcode = defaultdict(int)\n",
    "    for event, elem in ET.iterparse(osm_file, events=(\"start\",)):\n",
    "        if elem.tag == \"node\" or elem.tag == \"way\":\n",
    "            for tag in elem.iter(\"tag\"):\n",
    "                if tag.attrib['k']==\"addr:state\":\n",
    "                    state_list[tag.attrib['v']]+=1\n",
    "    return state_list  \n",
    "\n",
    "state_list= check_state(SMC_DATA)\n",
    "print state_list"
   ]
  },
  {
   "cell_type": "code",
   "execution_count": 183,
   "metadata": {
    "collapsed": false
   },
   "outputs": [
    {
     "name": "stdout",
     "output_type": "stream",
     "text": [
      "CA => CA\n",
      "CALIFORNIA => CA\n",
      "CA, => CA\n"
     ]
    }
   ],
   "source": [
    "def update_state(state_name):\n",
    "    if state_name!=\"CA\":\n",
    "        state_name=\"CA\"\n",
    "    return state_name\n",
    "\n",
    "for state in state_list:\n",
    "    better_state = update_state(state)\n",
    "    print state,\"=>\",better_state"
   ]
  },
  {
   "cell_type": "code",
   "execution_count": null,
   "metadata": {
    "collapsed": true
   },
   "outputs": [],
   "source": [
    "CREATED = [ \"version\", \"changeset\", \"timestamp\", \"user\", \"uid\"]\n",
    "\n",
    "\n",
    "def shape_element(element):\n",
    "    node = {}\n",
    "    node['created'] = {}\n",
    "    node['address'] = {}\n",
    "    node['pos']=[]\n",
    "    node['node_refs'] = []\n",
    "    \n",
    "    if element.tag == \"node\" or element.tag == \"way\" :\n",
    "        # YOUR CODE HERE\n",
    "        node['type']=element.tag\n",
    "        if \"id\" in element.attrib.keys():\n",
    "            node['id']=element.attrib['id']\n",
    "        if \"visible\" in element.attrib.keys():\n",
    "            node['visible']=element.attrib['visible']\n",
    "        \n",
    "        for elem in CREATED:\n",
    "            if elem in element.attrib.keys():\n",
    "                node['created'][elem]=element.attrib[elem]\n",
    "                \n",
    "        if \"lat\" in element.attrib:\n",
    "            node[\"pos\"].append(float(element.attrib[\"lat\"]))\n",
    "        if \"lon\" in element.attrib:\n",
    "            node[\"pos\"].append(float(element.attrib[\"lon\"]))\n",
    "        \n",
    "        for tag in element.iter('tag'):\n",
    "            if not(problemchars.search(tag.attrib['k'])):\n",
    "                if tag.attrib['k'] == \"addr:country\":\n",
    "                    node[\"address\"][\"country\"]=tag.attrib['v']\n",
    "                if tag.attrib['k'] == \"addr:state\":\n",
    "                    node[\"address\"][\"state\"]=update_state(tag.attrib['v'])\n",
    "                if tag.attrib['k'] == \"addr:city\":\n",
    "                    node[\"address\"][\"city\"]=update_city(tag.attrib['v'],city_mapping)\n",
    "                if tag.attrib['k'] == \"addr:housenumber\":\n",
    "                    node[\"address\"][\"housenumber\"]=tag.attrib['v']\n",
    "                if tag.attrib['k'] == \"addr:postcode\":\n",
    "                    node[\"address\"][\"postcode\"]=update_postcode(tag.attrib['v'])\n",
    "                if tag.attrib['k'] == \"addr:street\":\n",
    "                    node[\"address\"][\"street\"]=update_street(tag.attrib['v'],street_mapping)\n",
    "                if tag.attrib['k'].find(\"addr\")==-1:\n",
    "                    node[tag.attrib['k']]=tag.attrib['v']\n",
    "            \n",
    "        for nd in element.iter(\"nd\"):\n",
    "            node[\"node_refs\"].append(nd.attrib[\"ref\"]) \n",
    "        \n",
    "        if node[\"address\"] =={}:\n",
    "            node.pop(\"address\", None)\n",
    "        \n",
    "        if node[\"node_refs\"]==[]:\n",
    "            node.pop(\"node_refs\",None)\n",
    "        \n",
    "        return node\n",
    "    else:\n",
    "        return None\n",
    "\n",
    "\n",
    "def process_map(file_in, pretty = False):\n",
    "    # You do not need to change this file\n",
    "    file_out = \"{0}.json\".format(file_in)\n",
    "    data = []\n",
    "    with codecs.open(file_out, \"w\") as fo:\n",
    "        for _, element in ET.iterparse(file_in):\n",
    "            el = shape_element(element)\n",
    "            if el:\n",
    "                data.append(el)\n",
    "                if pretty:\n",
    "                    fo.write(json.dumps(el, indent=2)+\"\\n\")\n",
    "                else:\n",
    "                    fo.write(json.dumps(el) + \"\\n\")\n",
    "    return data"
   ]
  },
  {
   "cell_type": "code",
   "execution_count": 229,
   "metadata": {
    "collapsed": false
   },
   "outputs": [],
   "source": [
    "data = process_map(\"data/santa-monica_california.osm\", False)"
   ]
  },
  {
   "cell_type": "code",
   "execution_count": 230,
   "metadata": {
    "collapsed": true
   },
   "outputs": [],
   "source": [
    "## Functions to load our database and collection in pymongo\n",
    "\n",
    "from pymongo import MongoClient\n",
    "\n",
    "# Function to return a database of the name specified.\n",
    "# We want a database named 'project' in this case.\n",
    "def get_db(db_name):\n",
    "    client = MongoClient(\"mongodb://localhost:27017\")\n",
    "    db = client[db_name]\n",
    "    return db\n",
    "\n",
    "## Function to return the collection we want to use in MongoDB\n",
    "def get_collection(db, collection):\n",
    "    collections_db = db[collection]\n",
    "    return collections_db\n",
    "\n",
    "## Function to insert json data into MongoDB\n",
    "def insert_data(json_data, db_collection):\n",
    "    with open(json_data, 'r') as f:\n",
    "        ## json.loads() takes a string, while json.load() takes a file-like object.\n",
    "        ## http://stackoverflow.com/questions/11568246/\n",
    "        ## /loading-several-text-files-into-mongodb-using-pymongo\n",
    "        for each_line in f.readlines():\n",
    "            db_collection.insert(json.loads(each_line))\n",
    "    print(\"Complete.\")"
   ]
  },
  {
   "cell_type": "code",
   "execution_count": 231,
   "metadata": {
    "collapsed": true
   },
   "outputs": [],
   "source": [
    "def map_aggregate(db, collection, pipeline):\n",
    "    db_collection = db[collection]\n",
    "    result = db_collection.aggregate(pipeline)\n",
    "    return result"
   ]
  },
  {
   "cell_type": "code",
   "execution_count": 232,
   "metadata": {
    "collapsed": true
   },
   "outputs": [],
   "source": [
    "# Get 'project' database\n",
    "db = get_db('project')\n",
    "\n",
    "# Get 'cities' collection in the 'project' database\n",
    "# Put honolulu and albuquerque city data in this collection.\n",
    "db_cities = get_collection(db, 'cities')"
   ]
  },
  {
   "cell_type": "code",
   "execution_count": 233,
   "metadata": {
    "collapsed": false
   },
   "outputs": [
    {
     "name": "stdout",
     "output_type": "stream",
     "text": [
      "Complete.\n"
     ]
    }
   ],
   "source": [
    "smc_json_data = 'data/santa-monica_california.osm.json'  \n",
    "insert_data(smc_json_data, db_cities)"
   ]
  },
  {
   "cell_type": "code",
   "execution_count": 234,
   "metadata": {
    "collapsed": false
   },
   "outputs": [
    {
     "data": {
      "text/plain": [
       "Collection(Database(MongoClient('localhost', 27017), u'project'), u'cities')"
      ]
     },
     "execution_count": 234,
     "metadata": {},
     "output_type": "execute_result"
    }
   ],
   "source": [
    "db.cities"
   ]
  },
  {
   "cell_type": "code",
   "execution_count": 235,
   "metadata": {
    "collapsed": false
   },
   "outputs": [
    {
     "ename": "SyntaxError",
     "evalue": "invalid syntax (<ipython-input-235-2ab6febccb84>, line 19)",
     "output_type": "error",
     "traceback": [
      "\u001b[1;36m  File \u001b[1;32m\"<ipython-input-235-2ab6febccb84>\"\u001b[1;36m, line \u001b[1;32m19\u001b[0m\n\u001b[1;33m    cursor = db.points.aggregate(...)\u001b[0m\n\u001b[1;37m                                 ^\u001b[0m\n\u001b[1;31mSyntaxError\u001b[0m\u001b[1;31m:\u001b[0m invalid syntax\n"
     ]
    }
   ],
   "source": [
    "def make_city_pipeline(city):\n",
    "    pipeline = [{\"$match\":{\"created.user\":{\"$exists\":1},\n",
    "                                          \"city_name\":city}},\n",
    "                 {\"$group\": {\"_id\": {\"City\":\"$city_name\",\n",
    "                                     \"User\":\"$created.user\"},\n",
    "                            \"count\": {\"$sum\": 1}}},                            \n",
    "                 {\"$project\": {'_id':0,\n",
    "                               \"City\":\"$_id.City\",\n",
    "                               \"User\":\"$_id.User\",\n",
    "                               \"Count\":\"$count\"}},\n",
    "                 {\"$sort\": {\"Count\": -1}},\n",
    "                 {\"$limit\" : 5 }]\n",
    "    return pipeline\n",
    "\n",
    "pipeline = make_city_pipeline('Santa Monica')\n",
    "result1 = map_aggregate(db, 'cities', pipeline)\n",
    "pprint.pprint(result1)\n",
    "\n",
    "cursor = db.points.aggregate(...)\n",
    "\n",
    "# Option 1\n",
    "print(list(cursor))"
   ]
  },
  {
   "cell_type": "code",
   "execution_count": 282,
   "metadata": {
    "collapsed": false
   },
   "outputs": [
    {
     "name": "stdout",
     "output_type": "stream",
     "text": [
      "[{u'Count': 13242, u'User': u'techlady'},\n",
      " {u'Count': 8784, u'User': u'Rovastar'},\n",
      " {u'Count': 6808, u'User': u'StellanL'},\n",
      " {u'Count': 5206, u'User': u'bdiscoe'},\n",
      " {u'Count': 2876, u'User': u'mdapol'}]\n"
     ]
    }
   ],
   "source": [
    "#top 5 contirbutors#\n",
    "result1 = db.cities.aggregate([{\"$match\":{\"created.user\":{\"$exists\":1}}},\n",
    "                {\"$group\": \n",
    "                 {\"_id\": {\"City\":\"$city_name\",\n",
    "                          \"User\":\"$created.user\"},\n",
    "                            \"count\": {\"$sum\": 1}}},                            \n",
    "                 {\"$project\": {'_id':0,\n",
    "                               \"City\":\"$_id.City\",\n",
    "                               \"User\":\"$_id.User\",\n",
    "                               \"Count\":\"$count\"}},\n",
    "                 {\"$sort\": {\"Count\": -1}},\n",
    "                 {\"$limit\" : 5 }])\n",
    "\n",
    "pprint.pprint(list(result1))"
   ]
  },
  {
   "cell_type": "code",
   "execution_count": 283,
   "metadata": {
    "collapsed": false
   },
   "outputs": [
    {
     "name": "stdout",
     "output_type": "stream",
     "text": [
      "[{u'Count': 38, u'postcode': 90401},\n",
      " {u'Count': 32, u'postcode': 90404},\n",
      " {u'Count': 28, u'postcode': None},\n",
      " {u'Count': 16, u'postcode': 90405},\n",
      " {u'Count': 8, u'postcode': 90403},\n",
      " {u'Count': 2, u'postcode': 90402}]\n"
     ]
    }
   ],
   "source": [
    "result2 = db.cities.aggregate([{\"$match\":{\"address.city\":\"Santa Monica\"}},\n",
    "                {\"$group\": \n",
    "                 {\"_id\": {\"postcode\":\"$address.postcode\"},\n",
    "                            \"count\": {\"$sum\": 1}}},                            \n",
    "                 {\"$project\": {'_id':0,\n",
    "                               \"postcode\":\"$_id.postcode\",\n",
    "                               \"Count\":\"$count\"}},\n",
    "                 {\"$sort\": {\"Count\": -1}},])\n",
    "\n",
    "pprint.pprint(list(result2))"
   ]
  },
  {
   "cell_type": "code",
   "execution_count": 269,
   "metadata": {
    "collapsed": false
   },
   "outputs": [
    {
     "data": {
      "text/plain": [
       "72368"
      ]
     },
     "execution_count": 269,
     "metadata": {},
     "output_type": "execute_result"
    }
   ],
   "source": [
    "#number of documents\n",
    "\n",
    "db.cities.find().count()  "
   ]
  },
  {
   "cell_type": "code",
   "execution_count": 271,
   "metadata": {
    "collapsed": false
   },
   "outputs": [
    {
     "data": {
      "text/plain": [
       "62954"
      ]
     },
     "execution_count": 271,
     "metadata": {},
     "output_type": "execute_result"
    }
   ],
   "source": [
    "db.cities.find({\"type\":\"node\"}).count()"
   ]
  },
  {
   "cell_type": "code",
   "execution_count": 272,
   "metadata": {
    "collapsed": false
   },
   "outputs": [
    {
     "data": {
      "text/plain": [
       "9406"
      ]
     },
     "execution_count": 272,
     "metadata": {},
     "output_type": "execute_result"
    }
   ],
   "source": [
    "db.cities.find({\"type\":\"way\"}).count()"
   ]
  },
  {
   "cell_type": "code",
   "execution_count": 276,
   "metadata": {
    "collapsed": false
   },
   "outputs": [
    {
     "data": {
      "text/plain": [
       "278"
      ]
     },
     "execution_count": 276,
     "metadata": {},
     "output_type": "execute_result"
    }
   ],
   "source": [
    "len(db.cities.distinct(\"created.user\"))"
   ]
  },
  {
   "cell_type": "code",
   "execution_count": 287,
   "metadata": {
    "collapsed": false
   },
   "outputs": [
    {
     "name": "stdout",
     "output_type": "stream",
     "text": [
      "[{u'_id': u'fountain', u'count': 2},\n",
      " {u'_id': u'bus_station', u'count': 2},\n",
      " {u'_id': u'community_centre', u'count': 2},\n",
      " {u'_id': u'child care', u'count': 2},\n",
      " {u'_id': u'cemetery', u'count': 2},\n",
      " {u'_id': u'arts_centre', u'count': 2},\n",
      " {u'_id': u'car_rental', u'count': 2},\n",
      " {u'_id': u'courthouse', u'count': 2},\n",
      " {u'_id': u'college', u'count': 2},\n",
      " {u'_id': u'townhall', u'count': 4}]\n"
     ]
    }
   ],
   "source": [
    "# Top 10 appearing amenities\n",
    "                                                \n",
    "result3 = db.cities.aggregate([{\"$match\":{\"amenity\":{\"$exists\":1}}}, {\"$group\":{\"_id\":\"$amenity\",\n",
    "\"count\":{\"$sum\":1}}}, {\"$sort\":{\"count\":1}}, {\"$limit\":10}])\n",
    "\n",
    "pprint.pprint(list(result3))"
   ]
  },
  {
   "cell_type": "code",
   "execution_count": 300,
   "metadata": {
    "collapsed": false
   },
   "outputs": [
    {
     "name": "stdout",
     "output_type": "stream",
     "text": [
      "[{u'Count': 92, u'Religion': u'christian'},\n",
      " {u'Count': 4, u'Religion': u'buddhist'},\n",
      " {u'Count': 2},\n",
      " {u'Count': 2, u'Religion': u'jewish'}]\n"
     ]
    }
   ],
   "source": [
    "## Find the most popular places of worship\n",
    "result4 =db.cities.aggregate([{\"$match\":{\"amenity\":{\"$exists\":1},\"amenity\":\"place_of_worship\"}},\n",
    "                       {\"$group\":{\"_id\": {\"City\":\"$city_name\",\n",
    "                                          \"Religion\":\"$religion\"},\n",
    "                                  \"count\":{\"$sum\":1}}},\n",
    "                       {\"$project\":{\"_id\":0,\n",
    "                                    \"City\":\"$_id.City\",\n",
    "                                    \"Religion\":\"$_id.Religion\",\n",
    "                                    \"Count\":\"$count\"}},\n",
    "                       {\"$sort\":{\"Count\":-1}}])\n",
    "\n",
    "pprint.pprint(list(result4))"
   ]
  },
  {
   "cell_type": "code",
   "execution_count": 304,
   "metadata": {
    "collapsed": false
   },
   "outputs": [
    {
     "name": "stdout",
     "output_type": "stream",
     "text": [
      "[{u'Count': 70},\n",
      " {u'Count': 16, u'Food': u'american'},\n",
      " {u'Count': 10, u'Food': u'italian'},\n",
      " {u'Count': 10, u'Food': u'mexican'},\n",
      " {u'Count': 8, u'Food': u'burger'},\n",
      " {u'Count': 4, u'Food': u'pizza'}]\n"
     ]
    }
   ],
   "source": [
    "# most popular food#\n",
    "\n",
    "result5 =db.cities.aggregate([{\"$match\":{\"amenity\":{\"$exists\":1},\n",
    "                       \"amenity\":\"restaurant\"}},\n",
    "            {\"$group\":{\"_id\":{\"City\":\"$city_name\",\"Food\":\"$cuisine\"},\n",
    "                       \"count\":{\"$sum\":1}}},\n",
    "            {\"$project\":{\"_id\":0, \n",
    "                         \"Food\":\"$_id.Food\", \"Count\":\"$count\"}},\n",
    "            {\"$sort\":{\"Count\":-1}},\n",
    "            {\"$limit\":6}])\n",
    "    \n",
    "pprint.pprint(list(result5))"
   ]
  },
  {
   "cell_type": "code",
   "execution_count": null,
   "metadata": {
    "collapsed": true
   },
   "outputs": [],
   "source": []
  }
 ],
 "metadata": {
  "kernelspec": {
   "display_name": "Python 2",
   "language": "python",
   "name": "python2"
  },
  "language_info": {
   "codemirror_mode": {
    "name": "ipython",
    "version": 2
   },
   "file_extension": ".py",
   "mimetype": "text/x-python",
   "name": "python",
   "nbconvert_exporter": "python",
   "pygments_lexer": "ipython2",
   "version": "2.7.10"
  }
 },
 "nbformat": 4,
 "nbformat_minor": 0
}
